{
 "cells": [
  {
   "cell_type": "code",
   "execution_count": 1,
   "id": "2cc87723-f019-441a-9ba8-146ccaf09b16",
   "metadata": {},
   "outputs": [],
   "source": [
    "#1. What is Flask Framework? What are the advantages of Flask Framework?\n",
    "\n",
    "#Ans \n",
    "\n",
    "#Flask is a lightweight web application framework for Python. It is designed to be simple, easy to use, and customizable, making it a popular choice for building web applications, APIs, and microservices.\n",
    "\n",
    "#Advantages of Flask Framework \n",
    "\n",
    "#1 - Lightweight and customizable: Flask is a lightweight framework that does not impose any specific directory structure or require a lot of boilerplate code. This makes it easy to customize and adapt to your specific needs.\n",
    "\n",
    "#2 - Easy to learn: Flask is a beginner-friendly framework that is easy to learn and use. It has a simple API and clear documentation, which makes it easy to get started with building web applications.\n",
    "\n",
    "#3 - Flexible: Flask is a flexible framework that can be used to build a variety of web applications, from simple to complex. It provides a wide range of tools and extensions that can be used to add functionality and improve performance.\n",
    "\n",
    "#4 - Support for extensions: Flask has a large and active community of developers who have created many useful extensions. These extensions add functionality such as support for database integration, authentication, and caching."
   ]
  },
  {
   "cell_type": "code",
   "execution_count": 1,
   "id": "51dccca3-0dd8-4d0a-b6f7-e34483d42457",
   "metadata": {},
   "outputs": [
    {
     "name": "stdout",
     "output_type": "stream",
     "text": [
      " * Serving Flask app '__main__'\n",
      " * Debug mode: off\n"
     ]
    },
    {
     "name": "stderr",
     "output_type": "stream",
     "text": [
      "WARNING: This is a development server. Do not use it in a production deployment. Use a production WSGI server instead.\n",
      " * Running on http://127.0.0.1:5000\n",
      "Press CTRL+C to quit\n"
     ]
    }
   ],
   "source": [
    "#2. Create a simple Flask application to display ‘Hello World!!’. Attach the screenshot of the output in Jupyter Notebook.\n",
    "\n",
    "#Ans\n",
    "\n",
    "from flask import Flask\n",
    "app = Flask(__name__)\n",
    "@app.route('/')\n",
    "def hello_world():\n",
    "    return 'Hello World!!'\n",
    "if __name__ == '__main__':\n",
    "    app.run()"
   ]
  },
  {
   "cell_type": "code",
   "execution_count": 4,
   "id": "c4090603-4df0-48ad-adac-234776ea228f",
   "metadata": {},
   "outputs": [],
   "source": [
    "#3. What is App routing in Flask? Why do we use app routes?\n",
    "\n",
    "#Ans\n",
    "\n",
    "#In Flask, App routing refers to the process of mapping URLs to view functions in your web application. When a user makes a request to a specific URL, Flask uses the app routes to determine which view function should handle the request.\n",
    "\n",
    "#App routes are essential in Flask because they allow you to define the behavior of your web application. Without app routes, Flask wouldn't know which view function to use for each URL, and your application wouldn't be able to handle requests correctly.\n",
    "\n",
    "#We define an app route for URLs that match the pattern \"/users/<username>\". The angle brackets indicate that username is a path variable that can match any string. When a user navigates to a URL that matches this pattern (e.g., \"/users/john\"), Flask will call the show_user_profile function and pass the value of username as an argument."
   ]
  },
  {
   "cell_type": "code",
   "execution_count": null,
   "id": "c29609ea-56b9-4202-807e-7425175ea2f2",
   "metadata": {},
   "outputs": [
    {
     "name": "stdout",
     "output_type": "stream",
     "text": [
      " * Serving Flask app '__main__'\n",
      " * Debug mode: off\n"
     ]
    },
    {
     "name": "stderr",
     "output_type": "stream",
     "text": [
      "WARNING: This is a development server. Do not use it in a production deployment. Use a production WSGI server instead.\n",
      " * Running on http://127.0.0.1:5000\n",
      "Press CTRL+C to quit\n"
     ]
    }
   ],
   "source": [
    "#4. Create a “/welcome” route to display the welcome message “Welcome to ABC Corporation” and a “/” route to show the following details:\n",
    "\n",
    "#Company Name: ABC Corporation\n",
    "\n",
    "#Location: India\n",
    "\n",
    "#Contact Detail: 999-999-9999\n",
    "\n",
    "#Attach the screenshot of the output in Jupyter Notebook.\n",
    "\n",
    "#Ans\n",
    "\n",
    "from flask import Flask\n",
    "app = Flask(__name__)\n",
    "@app.route('/welcome')\n",
    "def welcome():\n",
    "    return 'Welcome to ABC Corporation'\n",
    "@app.route('/')\n",
    "def company_info():\n",
    "    return '''Company Name: ABC Corporation\n",
    "    Location: India\n",
    "    Contact Detail: 999-999-9999'''\n",
    "if __name__ == '__main__':\n",
    "    app.run()"
   ]
  },
  {
   "cell_type": "code",
   "execution_count": 1,
   "id": "08a0e1c4-f556-4813-bae5-6d068fa257a3",
   "metadata": {},
   "outputs": [
    {
     "name": "stdout",
     "output_type": "stream",
     "text": [
      "/hello/John\n",
      "/user/Jane\n"
     ]
    }
   ],
   "source": [
    "#5. What function is used in Flask for URL Building? Write a Python code to demonstrate the working of the url_for() function.\n",
    "\n",
    "#Ans\n",
    "\n",
    "#In Flask, the url_for() function is used for URL building. It generates a URL to the specified endpoint with the values provided for the endpoint arguments.\n",
    "\n",
    "from flask import Flask, url_for\n",
    "app = Flask(__name__)\n",
    "@app.route('/hello/<name>')\n",
    "def hello(name):\n",
    "    return f'Hello {name}!'\n",
    "@app.route('/user/<username>')\n",
    "def profile(username):\n",
    "    return f'Welcome {username}!'\n",
    "with app.test_request_context():\n",
    "    # Generating URL for the 'hello' endpoint with argument 'John'\n",
    "    print(url_for('hello', name='John'))\n",
    "    # Output: '/hello/John'\n",
    "    # Generating URL for the 'profile' endpoint with argument 'Jane'\n",
    "    print(url_for('profile', username='Jane'))\n",
    "    # Output: '/user/Jane'"
   ]
  },
  {
   "cell_type": "code",
   "execution_count": null,
   "id": "30d9d662-9ba1-4355-9faf-8285917749a9",
   "metadata": {},
   "outputs": [],
   "source": []
  }
 ],
 "metadata": {
  "kernelspec": {
   "display_name": "Python 3 (ipykernel)",
   "language": "python",
   "name": "python3"
  },
  "language_info": {
   "codemirror_mode": {
    "name": "ipython",
    "version": 3
   },
   "file_extension": ".py",
   "mimetype": "text/x-python",
   "name": "python",
   "nbconvert_exporter": "python",
   "pygments_lexer": "ipython3",
   "version": "3.10.8"
  }
 },
 "nbformat": 4,
 "nbformat_minor": 5
}
